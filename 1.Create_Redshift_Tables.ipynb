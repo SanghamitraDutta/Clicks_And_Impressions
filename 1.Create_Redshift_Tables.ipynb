{
 "cells": [
  {
   "cell_type": "markdown",
   "metadata": {},
   "source": [
    "### Notebook to create 2 Redshift tables\n",
    "\n",
    "\n",
    "### Process employed for deciding variable type :      \n",
    "  \n",
    "1. Looked at a sample of 1000 files from the S3 bucket which translated to 48593 rows of data in the **impressions** dataframe and and 554 rows in **clicks**  dataframe\n",
    "2. Checked individual columns for unique values and byte size range to select the varibale types\n",
    "  \n",
    "### Some observations and assumptions from the data:    \n",
    "  \n",
    "1. Primary Key for **clicks** table is `id`  \n",
    "2. Primary Key for **impressions** table is also `id` \n",
    "3. Also observed the rows where the `impression_id` in **clicks** table matched the `id` in **impressions** table, the entries across all common column of both the tables were identical. This indicates the `impression_id` is the foreign key in **clicks** table that refrences **impressions** table's primary key\n",
    "4. **meta_schema** column maybe indicating the name of the database schema but not clear from the table. So I've assumed **ll_schema** as the name of the schema \n",
    "\n"
   ]
  },
  {
   "cell_type": "markdown",
   "metadata": {},
   "source": [
    "<a id='Pre'></a>\n",
    "\n",
    "     \n",
    "### Pre-requisites to run notebook  \n",
    "\n",
    "1.[Enter AWS Credentials](#AWSCred)\n",
    "\n",
    "\n"
   ]
  },
  {
   "cell_type": "markdown",
   "metadata": {},
   "source": [
    "### Steps implemented in the notebook:\n",
    "\n",
    "1. [Creates table **impressions**](#Imp)\n",
    "2. [Creates table **clicks**](#Click)\n"
   ]
  },
  {
   "cell_type": "code",
   "execution_count": null,
   "metadata": {},
   "outputs": [],
   "source": [
    "import boto3\n",
    "import psycopg2\n",
    "import pandas as pd"
   ]
  },
  {
   "cell_type": "markdown",
   "metadata": {},
   "source": [
    "<a id='AWSCred'></a>\n",
    "#### Enter AWS Credentials"
   ]
  },
  {
   "cell_type": "code",
   "execution_count": null,
   "metadata": {},
   "outputs": [],
   "source": [
    "# Enter the Redshift DB credentials below\n",
    "\n",
    "Dbname= 'Enter the dbname'\n",
    "Port= 'Enter port'\n",
    "User ='Enter user'\n",
    "Password ='Enter password'\n",
    "Host ='Enter host'"
   ]
  },
  {
   "cell_type": "markdown",
   "metadata": {},
   "source": [
    "[Back](#Pre)"
   ]
  },
  {
   "cell_type": "code",
   "execution_count": null,
   "metadata": {},
   "outputs": [],
   "source": [
    "# Make conection to Redshift DB\n",
    "\n",
    "try:\n",
    "    con = psycopg2.connect( \n",
    "          host='%s' % (Host),\n",
    "          user='%s' % (User),\n",
    "          port='%s' % (Port),\n",
    "          password='%s' % (Password),\n",
    "          dbname='%s' % (DBname))\n",
    "    print(\"Connection Successful\")\n",
    "except:\n",
    "    print(\"Unable to connect to Redshift\")\n",
    "        \n",
    "cur = con.cursor()    \n"
   ]
  },
  {
   "cell_type": "markdown",
   "metadata": {},
   "source": [
    "<a id='Imp'></a>\n",
    "\n",
    "#### Create Table-  impressions"
   ]
  },
  {
   "cell_type": "code",
   "execution_count": null,
   "metadata": {},
   "outputs": [],
   "source": [
    "# string for sql create table query\n",
    "\n",
    "sql_create_impres = '''CREATE TABLE if not exists ll_schema.impressions( \n",
    "                         meta_schema varchar(64),\n",
    "                         meta_version numeric(4,2),\n",
    "                         gdpr_computed boolean,\n",
    "                         gdpr_source varchar(64),\n",
    "                         remote_i_p varchar(64),\n",
    "                         user_agent varchar(64),\n",
    "                         ecpm smallint,\n",
    "                         datacenter boolean,\n",
    "                         burn_in boolean,\n",
    "                         is_valid_u_a boolean,\n",
    "                         user_key integer not null,\n",
    "                         impression_count smallint, \n",
    "                         id varchar(128) not null,\n",
    "                         decision_id varchar(128) not null,\n",
    "                         decision_idx smallint,\n",
    "                         created_on timestamp,\n",
    "                         event_created_on timestamp,\n",
    "                         impression_created_on timestamp,\n",
    "                         ad_type_id smallint,\n",
    "                         auction_bids smallint,\n",
    "                         brand_id integer not null,\n",
    "                         campaign_id integer,\n",
    "                         categories varchar(32),\n",
    "                         channel_id integer,\n",
    "                         creative_id bigint,\n",
    "                         creative_pass_id integer,\n",
    "                         delivery_mode smallint,\n",
    "                         first_channel_id integer,\n",
    "                         is_no_track boolean,\n",
    "                         is_tracking_cookie_events boolean,\n",
    "                         is_publisher_payout_exempt boolean,\n",
    "                         keywords varchar(256),\n",
    "                         matching_keywords varchar(256),\n",
    "                         network_id integer,\n",
    "                         pass_id bigint,\n",
    "                         phantom_creative_pass_id smallint,\n",
    "                         placement_name varchar(128),\n",
    "                         phantom_pass_id smallint,\n",
    "                         priority_id integer,\n",
    "                         price double precision,\n",
    "                         rate_type smallint,\n",
    "                         relevancy_score smallint,\n",
    "                         revenue double precision,\n",
    "                         net_revenue double precision,\n",
    "                         gross_revenue double precision,\n",
    "                         served_by varchar(128),\n",
    "                         served_by_pid integer,\n",
    "                         served_by_asg varchar(128),\n",
    "                         site_id smallint,\n",
    "                         url varchar(256),\n",
    "                         zone_id integer,\n",
    "                         user_is_new boolean,\n",
    "                         device_brand_name varchar(64),\n",
    "                         device_model_name varchar(64),\n",
    "                         device_os_raw_version integer,\n",
    "                         device_os_major_version smallint,\n",
    "                         device_os_minor_version smallint,\n",
    "                         device_browser varchar(128),\n",
    "                         device_browser_raw_version numeric(4,2),\n",
    "                         device_browser_major_version smallint,\n",
    "                         device_browser_minor_version smallint,\n",
    "                         device_form_factor varchar(64)\n",
    "                         primary key(id));'''   \n",
    "\n",
    "\n",
    "#Attempt to create impressions table\n",
    "try:\n",
    "    cur.execute(sql_create_impres)\n",
    "    con.commit()\n",
    "    print(\"Created impressions table\")\n",
    "except:\n",
    "    print(\"Failed to create impressions table\")\n",
    "\n"
   ]
  },
  {
   "cell_type": "markdown",
   "metadata": {},
   "source": [
    "[Back](#Pre)"
   ]
  },
  {
   "cell_type": "markdown",
   "metadata": {},
   "source": [
    "<a id='Click'></a>\n",
    "\n",
    "#### Create Table-  clicks"
   ]
  },
  {
   "cell_type": "code",
   "execution_count": null,
   "metadata": {},
   "outputs": [],
   "source": [
    "# string for sql create table query\n",
    "\n",
    "sql_create_clicks = '''CREATE TABLE if not exists ll_schema.clicks( \n",
    "                         meta_schema varchar(64),\n",
    "                         meta_version numeric(4,2),\n",
    "                         gdpr_computed boolean,\n",
    "                         gdpr_source varchar(64),\n",
    "                         remote_i_p varchar(64),\n",
    "                         user_agent varchar(64),\n",
    "                         ecpm smallint,\n",
    "                         datacenter boolean,\n",
    "                         burn_in boolean,\n",
    "                         is_valid_u_a boolean,\n",
    "                         user_key integer not null,\n",
    "                         click_count smallint,\n",
    "                         id varchar(128) not null,\n",
    "                         created_on timestamp,\n",
    "                         event_created_on timestamp,\n",
    "                         impression_created_on timestamp,\n",
    "                         ad_type_id smallint,\n",
    "                         brand_id integer not null,\n",
    "                         campaign_id integer,\n",
    "                         categories varchar(32),\n",
    "                         channel_id integer,\n",
    "                         creative_id bigint,\n",
    "                         creative_pass_id integer,\n",
    "                         delivery_mode smallint,\n",
    "                         first_channel_id integer,\n",
    "                         impression_id varchar(128) not null,\n",
    "                         decision_id varchar(128) not null,\n",
    "                         is_no_track boolean,\n",
    "                         is_tracking_cookie_events boolean,\n",
    "                         is_publisher_payout_exempt boolean,\n",
    "                         keywords varchar(256),\n",
    "                         matching_keywords varchar(256),\n",
    "                         network_id integer,\n",
    "                         pass_id bigint,\n",
    "                         phantom_creative_pass_id smallint,\n",
    "                         placement_name varchar(128),\n",
    "                         phantom_pass_id smallint,\n",
    "                         priority_id integer,\n",
    "                         price double precision,\n",
    "                         rate_type smallint,\n",
    "                         revenue double precision,\n",
    "                         served_by varchar(128),\n",
    "                         served_by_pid integer,\n",
    "                         served_by_asg varchar(128),\n",
    "                         site_id smallint,\n",
    "                         url varchar(256),\n",
    "                         zone_id integer,\n",
    "                         user_is_new boolean,\n",
    "                         device_brand_name varchar(64),\n",
    "                         device_model_name varchar(64),\n",
    "                         device_os_raw_version integer,\n",
    "                         device_os_major_version smallint,\n",
    "                         device_os_minor_version smallint,\n",
    "                         device_browser varchar(128),\n",
    "                         device_browser_raw_version numeric(4,2),\n",
    "                         device_browser_major_version smallint,\n",
    "                         device_browser_minor_version smallint,\n",
    "                         device_form_factor varchar(64),\n",
    "                         primary key(id),\n",
    "                         foreign key(impressionid) references impressions(id));'''   \n",
    "\n",
    "\n",
    "#Attempt to create clicks table\n",
    "try:\n",
    "    cur.execute(sql_create_clicks)\n",
    "    con.commit()\n",
    "    print(\"Created clicks table\")\n",
    "except:\n",
    "    print(\"Failed to create clicks table\")\n"
   ]
  },
  {
   "cell_type": "code",
   "execution_count": null,
   "metadata": {},
   "outputs": [],
   "source": [
    "#close all connections\n",
    "\n",
    "cur.close()\n",
    "con.close()"
   ]
  },
  {
   "cell_type": "markdown",
   "metadata": {},
   "source": [
    "[Back](#Pre)"
   ]
  }
 ],
 "metadata": {
  "kernelspec": {
   "display_name": "Python 3",
   "language": "python",
   "name": "python3"
  },
  "language_info": {
   "codemirror_mode": {
    "name": "ipython",
    "version": 3
   },
   "file_extension": ".py",
   "mimetype": "text/x-python",
   "name": "python",
   "nbconvert_exporter": "python",
   "pygments_lexer": "ipython3",
   "version": "3.7.4"
  }
 },
 "nbformat": 4,
 "nbformat_minor": 2
}
